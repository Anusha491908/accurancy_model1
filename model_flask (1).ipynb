{
  "nbformat": 4,
  "nbformat_minor": 0,
  "metadata": {
    "colab": {
      "provenance": []
    },
    "kernelspec": {
      "name": "python3",
      "display_name": "Python 3"
    },
    "language_info": {
      "name": "python"
    },
    "widgets": {
      "application/vnd.jupyter.widget-state+json": {
        "5ead530b72e64388a46ef76dbd3641e1": {
          "model_module": "@jupyter-widgets/controls",
          "model_name": "VBoxModel",
          "model_module_version": "1.5.0",
          "state": {
            "_dom_classes": [],
            "_model_module": "@jupyter-widgets/controls",
            "_model_module_version": "1.5.0",
            "_model_name": "VBoxModel",
            "_view_count": null,
            "_view_module": "@jupyter-widgets/controls",
            "_view_module_version": "1.5.0",
            "_view_name": "VBoxView",
            "box_style": "",
            "children": [
              "IPY_MODEL_7f8a9d54a985472095f85e61506b54f0",
              "IPY_MODEL_47063ddcc6eb4edda45acf46833ddc75",
              "IPY_MODEL_73fb8b65f6a146ffba060354525ba6a9"
            ],
            "layout": "IPY_MODEL_6b4be4326d6f40dd94d6ea1f8fffefb8"
          }
        },
        "7f8a9d54a985472095f85e61506b54f0": {
          "model_module": "@jupyter-widgets/controls",
          "model_name": "LabelModel",
          "model_module_version": "1.5.0",
          "state": {
            "_dom_classes": [],
            "_model_module": "@jupyter-widgets/controls",
            "_model_module_version": "1.5.0",
            "_model_name": "LabelModel",
            "_view_count": null,
            "_view_module": "@jupyter-widgets/controls",
            "_view_module_version": "1.5.0",
            "_view_name": "LabelView",
            "description": "",
            "description_tooltip": null,
            "layout": "IPY_MODEL_40b3a811e0c448faabf9262b2187d02d",
            "placeholder": "​",
            "style": "IPY_MODEL_711202c38bd14a6f8f229c1545bd6884",
            "value": "Upload a content image (must be an RGB or RGBA image). High-res images might take more time to be processed."
          }
        },
        "47063ddcc6eb4edda45acf46833ddc75": {
          "model_module": "@jupyter-widgets/controls",
          "model_name": "FileUploadModel",
          "model_module_version": "1.5.0",
          "state": {
            "_counter": 1,
            "_dom_classes": [],
            "_model_module": "@jupyter-widgets/controls",
            "_model_module_version": "1.5.0",
            "_model_name": "FileUploadModel",
            "_view_count": null,
            "_view_module": "@jupyter-widgets/controls",
            "_view_module_version": "1.5.0",
            "_view_name": "FileUploadView",
            "accept": "",
            "button_style": "",
            "data": [
              null
            ],
            "description": "Upload",
            "description_tooltip": null,
            "disabled": false,
            "error": "",
            "icon": "upload",
            "layout": "IPY_MODEL_8f03f4dfbca341d385c61cce98256f36",
            "metadata": [
              {
                "name": "32 (1).jpg",
                "type": "image/jpeg",
                "size": 4991,
                "lastModified": 1681192358489
              }
            ],
            "multiple": false,
            "style": "IPY_MODEL_4a00a98a3eed4e3babae8c8efa142a01"
          }
        },
        "73fb8b65f6a146ffba060354525ba6a9": {
          "model_module": "@jupyter-widgets/controls",
          "model_name": "ButtonModel",
          "model_module_version": "1.5.0",
          "state": {
            "_dom_classes": [],
            "_model_module": "@jupyter-widgets/controls",
            "_model_module_version": "1.5.0",
            "_model_name": "ButtonModel",
            "_view_count": null,
            "_view_module": "@jupyter-widgets/controls",
            "_view_module_version": "1.5.0",
            "_view_name": "ButtonView",
            "button_style": "",
            "description": "Upload image",
            "disabled": false,
            "icon": "",
            "layout": "IPY_MODEL_7ae14a2a618d48b398a545fc7d8ff13a",
            "style": "IPY_MODEL_6df698c5d99c4b0f8c8952789d3b0143",
            "tooltip": ""
          }
        },
        "6b4be4326d6f40dd94d6ea1f8fffefb8": {
          "model_module": "@jupyter-widgets/base",
          "model_name": "LayoutModel",
          "model_module_version": "1.2.0",
          "state": {
            "_model_module": "@jupyter-widgets/base",
            "_model_module_version": "1.2.0",
            "_model_name": "LayoutModel",
            "_view_count": null,
            "_view_module": "@jupyter-widgets/base",
            "_view_module_version": "1.2.0",
            "_view_name": "LayoutView",
            "align_content": null,
            "align_items": null,
            "align_self": null,
            "border": null,
            "bottom": null,
            "display": null,
            "flex": null,
            "flex_flow": null,
            "grid_area": null,
            "grid_auto_columns": null,
            "grid_auto_flow": null,
            "grid_auto_rows": null,
            "grid_column": null,
            "grid_gap": null,
            "grid_row": null,
            "grid_template_areas": null,
            "grid_template_columns": null,
            "grid_template_rows": null,
            "height": null,
            "justify_content": null,
            "justify_items": null,
            "left": null,
            "margin": null,
            "max_height": null,
            "max_width": null,
            "min_height": null,
            "min_width": null,
            "object_fit": null,
            "object_position": null,
            "order": null,
            "overflow": null,
            "overflow_x": null,
            "overflow_y": null,
            "padding": null,
            "right": null,
            "top": null,
            "visibility": null,
            "width": null
          }
        },
        "40b3a811e0c448faabf9262b2187d02d": {
          "model_module": "@jupyter-widgets/base",
          "model_name": "LayoutModel",
          "model_module_version": "1.2.0",
          "state": {
            "_model_module": "@jupyter-widgets/base",
            "_model_module_version": "1.2.0",
            "_model_name": "LayoutModel",
            "_view_count": null,
            "_view_module": "@jupyter-widgets/base",
            "_view_module_version": "1.2.0",
            "_view_name": "LayoutView",
            "align_content": null,
            "align_items": null,
            "align_self": null,
            "border": null,
            "bottom": null,
            "display": null,
            "flex": null,
            "flex_flow": null,
            "grid_area": null,
            "grid_auto_columns": null,
            "grid_auto_flow": null,
            "grid_auto_rows": null,
            "grid_column": null,
            "grid_gap": null,
            "grid_row": null,
            "grid_template_areas": null,
            "grid_template_columns": null,
            "grid_template_rows": null,
            "height": null,
            "justify_content": null,
            "justify_items": null,
            "left": null,
            "margin": null,
            "max_height": null,
            "max_width": null,
            "min_height": null,
            "min_width": null,
            "object_fit": null,
            "object_position": null,
            "order": null,
            "overflow": null,
            "overflow_x": null,
            "overflow_y": null,
            "padding": null,
            "right": null,
            "top": null,
            "visibility": null,
            "width": null
          }
        },
        "711202c38bd14a6f8f229c1545bd6884": {
          "model_module": "@jupyter-widgets/controls",
          "model_name": "DescriptionStyleModel",
          "model_module_version": "1.5.0",
          "state": {
            "_model_module": "@jupyter-widgets/controls",
            "_model_module_version": "1.5.0",
            "_model_name": "DescriptionStyleModel",
            "_view_count": null,
            "_view_module": "@jupyter-widgets/base",
            "_view_module_version": "1.2.0",
            "_view_name": "StyleView",
            "description_width": ""
          }
        },
        "8f03f4dfbca341d385c61cce98256f36": {
          "model_module": "@jupyter-widgets/base",
          "model_name": "LayoutModel",
          "model_module_version": "1.2.0",
          "state": {
            "_model_module": "@jupyter-widgets/base",
            "_model_module_version": "1.2.0",
            "_model_name": "LayoutModel",
            "_view_count": null,
            "_view_module": "@jupyter-widgets/base",
            "_view_module_version": "1.2.0",
            "_view_name": "LayoutView",
            "align_content": null,
            "align_items": null,
            "align_self": null,
            "border": null,
            "bottom": null,
            "display": null,
            "flex": null,
            "flex_flow": null,
            "grid_area": null,
            "grid_auto_columns": null,
            "grid_auto_flow": null,
            "grid_auto_rows": null,
            "grid_column": null,
            "grid_gap": null,
            "grid_row": null,
            "grid_template_areas": null,
            "grid_template_columns": null,
            "grid_template_rows": null,
            "height": null,
            "justify_content": null,
            "justify_items": null,
            "left": null,
            "margin": null,
            "max_height": null,
            "max_width": null,
            "min_height": null,
            "min_width": null,
            "object_fit": null,
            "object_position": null,
            "order": null,
            "overflow": null,
            "overflow_x": null,
            "overflow_y": null,
            "padding": null,
            "right": null,
            "top": null,
            "visibility": null,
            "width": null
          }
        },
        "4a00a98a3eed4e3babae8c8efa142a01": {
          "model_module": "@jupyter-widgets/controls",
          "model_name": "ButtonStyleModel",
          "model_module_version": "1.5.0",
          "state": {
            "_model_module": "@jupyter-widgets/controls",
            "_model_module_version": "1.5.0",
            "_model_name": "ButtonStyleModel",
            "_view_count": null,
            "_view_module": "@jupyter-widgets/base",
            "_view_module_version": "1.2.0",
            "_view_name": "StyleView",
            "button_color": null,
            "font_weight": ""
          }
        },
        "7ae14a2a618d48b398a545fc7d8ff13a": {
          "model_module": "@jupyter-widgets/base",
          "model_name": "LayoutModel",
          "model_module_version": "1.2.0",
          "state": {
            "_model_module": "@jupyter-widgets/base",
            "_model_module_version": "1.2.0",
            "_model_name": "LayoutModel",
            "_view_count": null,
            "_view_module": "@jupyter-widgets/base",
            "_view_module_version": "1.2.0",
            "_view_name": "LayoutView",
            "align_content": null,
            "align_items": null,
            "align_self": null,
            "border": null,
            "bottom": null,
            "display": null,
            "flex": null,
            "flex_flow": null,
            "grid_area": null,
            "grid_auto_columns": null,
            "grid_auto_flow": null,
            "grid_auto_rows": null,
            "grid_column": null,
            "grid_gap": null,
            "grid_row": null,
            "grid_template_areas": null,
            "grid_template_columns": null,
            "grid_template_rows": null,
            "height": null,
            "justify_content": null,
            "justify_items": null,
            "left": null,
            "margin": null,
            "max_height": null,
            "max_width": null,
            "min_height": null,
            "min_width": null,
            "object_fit": null,
            "object_position": null,
            "order": null,
            "overflow": null,
            "overflow_x": null,
            "overflow_y": null,
            "padding": null,
            "right": null,
            "top": null,
            "visibility": null,
            "width": null
          }
        },
        "6df698c5d99c4b0f8c8952789d3b0143": {
          "model_module": "@jupyter-widgets/controls",
          "model_name": "ButtonStyleModel",
          "model_module_version": "1.5.0",
          "state": {
            "_model_module": "@jupyter-widgets/controls",
            "_model_module_version": "1.5.0",
            "_model_name": "ButtonStyleModel",
            "_view_count": null,
            "_view_module": "@jupyter-widgets/base",
            "_view_module_version": "1.2.0",
            "_view_name": "StyleView",
            "button_color": null,
            "font_weight": ""
          }
        }
      }
    }
  },
  "cells": [
    {
      "cell_type": "code",
      "execution_count": null,
      "metadata": {
        "colab": {
          "base_uri": "https://localhost:8080/"
        },
        "id": "LH6IYVqXRhgX",
        "outputId": "076381d7-be98-4a7c-9465-3851ad618309"
      },
      "outputs": [
        {
          "output_type": "stream",
          "name": "stdout",
          "text": [
            "Looking in indexes: https://pypi.org/simple, https://us-python.pkg.dev/colab-wheels/public/simple/\n",
            "Collecting flask-ngrok\n",
            "  Downloading flask_ngrok-0.0.25-py3-none-any.whl (3.1 kB)\n",
            "Requirement already satisfied: requests in /usr/local/lib/python3.9/dist-packages (from flask-ngrok) (2.27.1)\n",
            "Requirement already satisfied: Flask>=0.8 in /usr/local/lib/python3.9/dist-packages (from flask-ngrok) (2.2.3)\n",
            "Requirement already satisfied: itsdangerous>=2.0 in /usr/local/lib/python3.9/dist-packages (from Flask>=0.8->flask-ngrok) (2.1.2)\n",
            "Requirement already satisfied: Jinja2>=3.0 in /usr/local/lib/python3.9/dist-packages (from Flask>=0.8->flask-ngrok) (3.1.2)\n",
            "Requirement already satisfied: click>=8.0 in /usr/local/lib/python3.9/dist-packages (from Flask>=0.8->flask-ngrok) (8.1.3)\n",
            "Requirement already satisfied: Werkzeug>=2.2.2 in /usr/local/lib/python3.9/dist-packages (from Flask>=0.8->flask-ngrok) (2.2.3)\n",
            "Requirement already satisfied: importlib-metadata>=3.6.0 in /usr/local/lib/python3.9/dist-packages (from Flask>=0.8->flask-ngrok) (6.4.1)\n",
            "Requirement already satisfied: idna<4,>=2.5 in /usr/local/lib/python3.9/dist-packages (from requests->flask-ngrok) (3.4)\n",
            "Requirement already satisfied: urllib3<1.27,>=1.21.1 in /usr/local/lib/python3.9/dist-packages (from requests->flask-ngrok) (1.26.15)\n",
            "Requirement already satisfied: certifi>=2017.4.17 in /usr/local/lib/python3.9/dist-packages (from requests->flask-ngrok) (2022.12.7)\n",
            "Requirement already satisfied: charset-normalizer~=2.0.0 in /usr/local/lib/python3.9/dist-packages (from requests->flask-ngrok) (2.0.12)\n",
            "Requirement already satisfied: zipp>=0.5 in /usr/local/lib/python3.9/dist-packages (from importlib-metadata>=3.6.0->Flask>=0.8->flask-ngrok) (3.15.0)\n",
            "Requirement already satisfied: MarkupSafe>=2.0 in /usr/local/lib/python3.9/dist-packages (from Jinja2>=3.0->Flask>=0.8->flask-ngrok) (2.1.2)\n",
            "Installing collected packages: flask-ngrok\n",
            "Successfully installed flask-ngrok-0.0.25\n"
          ]
        }
      ],
      "source": [
        "!pip install flask-ngrok"
      ]
    },
    {
      "cell_type": "code",
      "source": [
        "from io import BytesIO\n",
        "from IPython.display import display\n",
        "from PIL import Image\n",
        "from tensorflow.keras.preprocessing import image\n",
        "from tensorflow.keras.applications.resnet50 import preprocess_input, decode_predictions\n",
        "\n",
        "import ipywidgets as widgets\n",
        "import io\n",
        "import matplotlib.pyplot as plt\n",
        "import numpy as np\n",
        "import requests\n",
        "import tensorflow as tf\n",
        "import tensorflow_hub as hub\n",
        "import time"
      ],
      "metadata": {
        "id": "O-nQsSuk43zu"
      },
      "execution_count": null,
      "outputs": []
    },
    {
      "cell_type": "code",
      "source": [
        "content_image = None # This needs to be in global scope\n",
        "img_path = 'image.png'\n",
        "\n",
        "def button_click(change):\n",
        "    global content_image\n",
        "    img = Image.open(io.BytesIO(uploader.data[-1]))\n",
        "    content_image = img\n",
        "    img.save(img_path)\n",
        "    \n",
        "uploader = widgets.FileUpload()\n",
        "show_button = widgets.Button(description='Upload image')\n",
        "show_button.on_click(button_click)\n",
        "\n"
      ],
      "metadata": {
        "id": "YuPOA7t25LmI"
      },
      "execution_count": null,
      "outputs": []
    },
    {
      "cell_type": "code",
      "source": [
        "widgets.VBox([widgets.Label('Upload a content image (must be an RGB or RGBA image). High-res images might take more time to be processed.'), uploader, show_button])"
      ],
      "metadata": {
        "colab": {
          "base_uri": "https://localhost:8080/",
          "height": 113,
          "referenced_widgets": [
            "5ead530b72e64388a46ef76dbd3641e1",
            "7f8a9d54a985472095f85e61506b54f0",
            "47063ddcc6eb4edda45acf46833ddc75",
            "73fb8b65f6a146ffba060354525ba6a9",
            "6b4be4326d6f40dd94d6ea1f8fffefb8",
            "40b3a811e0c448faabf9262b2187d02d",
            "711202c38bd14a6f8f229c1545bd6884",
            "8f03f4dfbca341d385c61cce98256f36",
            "4a00a98a3eed4e3babae8c8efa142a01",
            "7ae14a2a618d48b398a545fc7d8ff13a",
            "6df698c5d99c4b0f8c8952789d3b0143"
          ]
        },
        "id": "WZPNus5I5nND",
        "outputId": "ba8bb92d-714f-423d-c0b5-53f436837ba5"
      },
      "execution_count": null,
      "outputs": [
        {
          "output_type": "display_data",
          "data": {
            "text/plain": [
              "VBox(children=(Label(value='Upload a content image (must be an RGB or RGBA image). High-res images might take …"
            ],
            "application/vnd.jupyter.widget-view+json": {
              "version_major": 2,
              "version_minor": 0,
              "model_id": "5ead530b72e64388a46ef76dbd3641e1"
            }
          },
          "metadata": {}
        }
      ]
    },
    {
      "cell_type": "code",
      "source": [
        "import os\n",
        "os.chdir('/content/drive/MyDrive/Alzheimer_s Dataset/test/MildDemented')"
      ],
      "metadata": {
        "id": "45Yi6uMJ8jyA"
      },
      "execution_count": null,
      "outputs": []
    },
    {
      "cell_type": "code",
      "source": [
        "img = img_path\n",
        "if content_image is None:\n",
        "    img = \"https://storage.googleapis.com/tomorrow-city/assets/migration/2019/04/architecture-buildings-cars.jpg\"\n",
        "\n"
      ],
      "metadata": {
        "id": "ehTX3k029txW"
      },
      "execution_count": null,
      "outputs": []
    },
    {
      "cell_type": "code",
      "source": [
        "import os\n",
        "\n",
        "haarcascades = os.path.join(os.path.dirname( \"/content/drive/MyDrive/Alzheimer_s Dataset/test/MildDemented\"))"
      ],
      "metadata": {
        "id": "vLbAQcFQ-eA7"
      },
      "execution_count": null,
      "outputs": []
    },
    {
      "cell_type": "code",
      "source": [
        "import cv2\n",
        "from PIL import ImageTk, Image\n",
        "import tkinter as tk\n",
        "from tkinter.filedialog import askopenfilename\n",
        "\n",
        "\n",
        "def browse():\n",
        "    filename = askopenfilename(initialdir=\"./\", title=\"select a file\",\n",
        "                               filetypes=((\"png files\",\"*.png\"),(\"allfiles\",\"*.*\")))\n",
        "    if not filename:\n",
        "        return  # User didn't select a file.\n",
        "\n",
        "    tk.Label(root, text=filename).pack()\n",
        "    my_image = ImageTk.PhotoImage(Image.open(filename))\n",
        "    img_lbl = tk.Label(image=my_image)\n",
        "    img_lbl.img = my_image  # Save reference to image.\n",
        "    img_lbl.pack()\n",
        "\n",
        "    img = cv2.imread(filename)\n",
        "    show_image(img)\n",
        "\n",
        "def show_image(img):\n",
        "    cv2.imshow(\" \", img)\n",
        "    cv2.waitKey(0)\n",
        "    cv2.destroyAllWindows()\n",
        "\n",
        "\n",
        "\n"
      ],
      "metadata": {
        "id": "813LXWs2_EDf"
      },
      "execution_count": null,
      "outputs": []
    },
    {
      "cell_type": "code",
      "source": [
        "img = img_path\n",
        "if content_image is None:\n",
        "    img = (\"/content/drive/MyDrive/Alzheimer_s Dataset/test/MildDemented/26 (23).jpg\")\n",
        "load_image:any"
      ],
      "metadata": {
        "id": "3aPFqhS8_8W-"
      },
      "execution_count": null,
      "outputs": []
    },
    {
      "cell_type": "code",
      "source": [
        "!wget https://upload./content/drive/MyDrive/Alzheimer_s Dataset/test/MildDemented/32 (3).jpgsvg.png"
      ],
      "metadata": {
        "colab": {
          "base_uri": "https://localhost:8080/"
        },
        "id": "hcSL4gEQEbBY",
        "outputId": "d78f1b3c-1dd7-485c-c46f-f1a450a9ce20"
      },
      "execution_count": null,
      "outputs": [
        {
          "output_type": "stream",
          "name": "stdout",
          "text": [
            "/bin/bash: -c: line 0: syntax error near unexpected token `('\n",
            "/bin/bash: -c: line 0: `wget https://upload./content/drive/MyDrive/Alzheimer_s Dataset/test/MildDemented/32 (3).jpgsvg.png'\n"
          ]
        }
      ]
    },
    {
      "cell_type": "code",
      "source": [
        "from IPython.display import Image\n",
        "Image('/content/drive/MyDrive/Alzheimer_s Dataset/test/MildDemented/26 (20).jpg')"
      ],
      "metadata": {
        "colab": {
          "base_uri": "https://localhost:8080/",
          "height": 225
        },
        "id": "438LQeDVEp1R",
        "outputId": "24c72c57-8eb4-46e1-e884-dfcc89d12510"
      },
      "execution_count": null,
      "outputs": [
        {
          "output_type": "execute_result",
          "data": {
            "image/jpeg": "[encoded data removed]",
            "text/plain": [
              "<IPython.core.display.Image object>"
            ]
          },
          "metadata": {},
          "execution_count": 44
        }
      ]
    },
    {
      "cell_type": "code",
      "source": [
        "import keras\n",
        "from keras.models import Sequential\n",
        "from keras.layers import Dense\n",
        "from keras.models import load_model\n",
        "\n",
        "#empty model\n",
        "classifier = Sequential()"
      ],
      "metadata": {
        "id": "vO1x7CRaH6kK"
      },
      "execution_count": null,
      "outputs": []
    },
    {
      "cell_type": "code",
      "source": [
        "#add layers, start with hidden layer and first deep layer\n",
        "p = 0.1\n"
      ],
      "metadata": {
        "id": "twZFieNCH9Wx"
      },
      "execution_count": null,
      "outputs": []
    },
    {
      "cell_type": "code",
      "source": [
        "from sklearn.metrics import classification_report"
      ],
      "metadata": {
        "id": "bjhSJ-tVK-i4"
      },
      "execution_count": null,
      "outputs": []
    },
    {
      "cell_type": "code",
      "source": [
        "import tensorflow as tf\n",
        "import keras\n",
        "model = keras.models.load_model"
      ],
      "metadata": {
        "id": "DWf4JAyh-aIH"
      },
      "execution_count": null,
      "outputs": []
    },
    {
      "cell_type": "code",
      "source": [
        "m = tf.keras.Sequential\n"
      ],
      "metadata": {
        "id": "zi3f9Mpc962H"
      },
      "execution_count": null,
      "outputs": []
    },
    {
      "cell_type": "code",
      "source": [
        "model = tf.keras.Sequential([\n",
        "    tf.keras.layers.Conv2D(32, (3, 3), activation = 'relu', input_shape = (150, 150, 3)), \n",
        "    tf.keras.layers.MaxPooling2D(2,2),\n",
        "    tf.keras.layers.Conv2D(32, (3, 3), activation = 'relu'),\n",
        "    tf.keras.layers.MaxPooling2D(2,2),\n",
        "    tf.keras.layers.Flatten(),\n",
        "    tf.keras.layers.Dense(128, activation=tf.nn.relu),\n",
        "    tf.keras.layers.Dense(6, activation=tf.nn.softmax)\n",
        "])"
      ],
      "metadata": {
        "id": "UkrA6zDEh4tY"
      },
      "execution_count": null,
      "outputs": []
    },
    {
      "cell_type": "code",
      "source": [
        "model.compile(optimizer = 'adam', loss = 'sparse_categorical_crossentropy', metrics=['accuracy'])"
      ],
      "metadata": {
        "id": "MteqYI3Wh8se"
      },
      "execution_count": null,
      "outputs": []
    },
    {
      "cell_type": "code",
      "source": [
        "epochs = 50"
      ],
      "metadata": {
        "id": "NttjO5RlcU2U"
      },
      "execution_count": null,
      "outputs": []
    },
    {
      "cell_type": "code",
      "source": [
        "from keras.callbacks import History\n"
      ],
      "metadata": {
        "id": "j7bc30J0dFZj"
      },
      "execution_count": null,
      "outputs": []
    },
    {
      "cell_type": "code",
      "source": [
        "import tensorflow as tf\n",
        "from tensorflow import keras\n",
        "import warnings\n",
        "from tensorflow.keras import layers\n",
        "\n",
        "\n",
        "# Load the dataset\n",
        "train_data = keras.preprocessing.image_dataset_from_directory(\n",
        "    '/content/drive/MyDrive/Alzheimer_s Dataset/train',\n",
        "     image_size=(150, 150),\n",
        "    batch_size=32,\n",
        "    shuffle=True,\n",
        "    seed=42,\n",
        "    validation_split=0.2,\n",
        "    subset='training'\n",
        ")"
      ],
      "metadata": {
        "colab": {
          "base_uri": "https://localhost:8080/"
        },
        "id": "bp4P-OM-d15f",
        "outputId": "63018f9a-6720-4f10-d123-19f2f1adb42f"
      },
      "execution_count": null,
      "outputs": [
        {
          "output_type": "stream",
          "name": "stdout",
          "text": [
            "Found 5121 files belonging to 4 classes.\n",
            "Using 4097 files for training.\n"
          ]
        }
      ]
    },
    {
      "cell_type": "code",
      "source": [
        "test_data = keras.preprocessing.image_dataset_from_directory(\n",
        "    '/content/drive/MyDrive/Alzheimer_s Dataset/test',\n",
        "     image_size=(150, 150),\n",
        "    batch_size=32,\n",
        "    shuffle=True,\n",
        "    seed=42,\n",
        "    validation_split=0.2,\n",
        "    subset='validation'\n",
        ")"
      ],
      "metadata": {
        "colab": {
          "base_uri": "https://localhost:8080/"
        },
        "id": "39tQCOmed8cn",
        "outputId": "6241b36a-0423-4aee-8b9e-09c35e3cd3e2"
      },
      "execution_count": null,
      "outputs": [
        {
          "output_type": "stream",
          "name": "stdout",
          "text": [
            "Found 1279 files belonging to 4 classes.\n",
            "Using 255 files for validation.\n"
          ]
        }
      ]
    },
    {
      "cell_type": "code",
      "source": [
        "normalization_layer = layers.experimental.preprocessing.Rescaling(1./255)\n",
        "train_data = train_data.map(lambda x, y: (normalization_layer(x), y))\n",
        "test_data = test_data.map(lambda x, y: (normalization_layer(x), y))"
      ],
      "metadata": {
        "id": "jKe5hrMgeCPC"
      },
      "execution_count": null,
      "outputs": []
    },
    {
      "cell_type": "code",
      "source": [
        "model = keras.Sequential([\n",
        "    layers.Conv2D(32, (3,3), activation='relu', input_shape=(150,150,3)),\n",
        "    layers.MaxPooling2D((2,2)),\n",
        "    layers.Conv2D(64, (3,3), activation='relu'),\n",
        "    layers.MaxPooling2D((2,2)),\n",
        "    layers.Conv2D(128, (3,3), activation='relu'),\n",
        "    layers.MaxPooling2D((2,2)),\n",
        "    layers.Flatten(),\n",
        "    layers.Dense(64, activation='relu'),\n",
        "    layers.Dense(4, activation='softmax')\n",
        "])"
      ],
      "metadata": {
        "id": "C4x5cVEPeJ6t"
      },
      "execution_count": null,
      "outputs": []
    },
    {
      "cell_type": "code",
      "source": [
        "model.compile(optimizer='adam',\n",
        "              loss='sparse_categorical_crossentropy',\n",
        "              metrics=['accuracy'])"
      ],
      "metadata": {
        "id": "ggR0RL06eSsc"
      },
      "execution_count": null,
      "outputs": []
    },
    {
      "cell_type": "code",
      "source": [
        "history = model.fit(train_data, validation_data=test_data, epochs=50)"
      ],
      "metadata": {
        "id": "lp-6THxgeXSh",
        "colab": {
          "base_uri": "https://localhost:8080/"
        },
        "outputId": "50ed5a2a-efff-4c43-d703-1f47344cf36b"
      },
      "execution_count": null,
      "outputs": [
        {
          "output_type": "stream",
          "name": "stdout",
          "text": [
            "Epoch 1/50\n",
            "129/129 [==============================] - 879s 6s/step - loss: 1.0159 - accuracy: 0.5043 - val_loss: 0.9684 - val_accuracy: 0.5176\n",
            "Epoch 2/50\n",
            "129/129 [==============================] - 230s 2s/step - loss: 0.8065 - accuracy: 0.6329 - val_loss: 1.0432 - val_accuracy: 0.5725\n",
            "Epoch 3/50\n",
            "129/129 [==============================] - 230s 2s/step - loss: 0.5026 - accuracy: 0.7886 - val_loss: 1.1287 - val_accuracy: 0.5765\n",
            "Epoch 4/50\n",
            "129/129 [==============================] - 227s 2s/step - loss: 0.3050 - accuracy: 0.8804 - val_loss: 1.7394 - val_accuracy: 0.5333\n",
            "Epoch 5/50\n",
            "129/129 [==============================] - 228s 2s/step - loss: 0.1655 - accuracy: 0.9412 - val_loss: 1.3872 - val_accuracy: 0.6353\n",
            "Epoch 6/50\n",
            "129/129 [==============================] - 229s 2s/step - loss: 0.0493 - accuracy: 0.9866 - val_loss: 2.1409 - val_accuracy: 0.6078\n",
            "Epoch 7/50\n",
            "129/129 [==============================] - 226s 2s/step - loss: 0.0151 - accuracy: 0.9973 - val_loss: 2.1102 - val_accuracy: 0.6549\n",
            "Epoch 8/50\n",
            "129/129 [==============================] - 226s 2s/step - loss: 0.0029 - accuracy: 1.0000 - val_loss: 2.8591 - val_accuracy: 0.6549\n",
            "Epoch 9/50\n",
            "129/129 [==============================] - 223s 2s/step - loss: 7.4450e-04 - accuracy: 1.0000 - val_loss: 3.0377 - val_accuracy: 0.6510\n",
            "Epoch 10/50\n",
            "129/129 [==============================] - 227s 2s/step - loss: 3.7265e-04 - accuracy: 1.0000 - val_loss: 3.1281 - val_accuracy: 0.6549\n",
            "Epoch 11/50\n",
            "129/129 [==============================] - 229s 2s/step - loss: 2.7615e-04 - accuracy: 1.0000 - val_loss: 3.1754 - val_accuracy: 0.6549\n",
            "Epoch 12/50\n",
            "129/129 [==============================] - 227s 2s/step - loss: 2.1515e-04 - accuracy: 1.0000 - val_loss: 3.2536 - val_accuracy: 0.6510\n",
            "Epoch 13/50\n",
            "129/129 [==============================] - 228s 2s/step - loss: 1.7687e-04 - accuracy: 1.0000 - val_loss: 3.3119 - val_accuracy: 0.6588\n",
            "Epoch 14/50\n",
            "129/129 [==============================] - 227s 2s/step - loss: 1.4521e-04 - accuracy: 1.0000 - val_loss: 3.3864 - val_accuracy: 0.6510\n",
            "Epoch 15/50\n",
            "129/129 [==============================] - 224s 2s/step - loss: 1.2323e-04 - accuracy: 1.0000 - val_loss: 3.4911 - val_accuracy: 0.6549\n",
            "Epoch 16/50\n",
            "129/129 [==============================] - 230s 2s/step - loss: 1.0435e-04 - accuracy: 1.0000 - val_loss: 3.4790 - val_accuracy: 0.6588\n",
            "Epoch 17/50\n",
            "129/129 [==============================] - 226s 2s/step - loss: 8.9000e-05 - accuracy: 1.0000 - val_loss: 3.5681 - val_accuracy: 0.6549\n",
            "Epoch 18/50\n",
            "129/129 [==============================] - 224s 2s/step - loss: 7.8436e-05 - accuracy: 1.0000 - val_loss: 3.6079 - val_accuracy: 0.6588\n",
            "Epoch 19/50\n",
            "129/129 [==============================] - 226s 2s/step - loss: 6.7614e-05 - accuracy: 1.0000 - val_loss: 3.6708 - val_accuracy: 0.6588\n",
            "Epoch 20/50\n",
            "129/129 [==============================] - 226s 2s/step - loss: 5.9450e-05 - accuracy: 1.0000 - val_loss: 3.7299 - val_accuracy: 0.6588\n",
            "Epoch 21/50\n",
            "129/129 [==============================] - 225s 2s/step - loss: 5.2417e-05 - accuracy: 1.0000 - val_loss: 3.7282 - val_accuracy: 0.6588\n",
            "Epoch 22/50\n",
            "129/129 [==============================] - 229s 2s/step - loss: 4.6663e-05 - accuracy: 1.0000 - val_loss: 3.7879 - val_accuracy: 0.6588\n",
            "Epoch 23/50\n",
            "129/129 [==============================] - 229s 2s/step - loss: 4.2430e-05 - accuracy: 1.0000 - val_loss: 3.8283 - val_accuracy: 0.6588\n",
            "Epoch 24/50\n",
            "129/129 [==============================] - 224s 2s/step - loss: 3.6940e-05 - accuracy: 1.0000 - val_loss: 3.8611 - val_accuracy: 0.6588\n",
            "Epoch 25/50\n",
            "129/129 [==============================] - 223s 2s/step - loss: 3.2764e-05 - accuracy: 1.0000 - val_loss: 3.9148 - val_accuracy: 0.6588\n",
            "Epoch 26/50\n",
            "129/129 [==============================] - 227s 2s/step - loss: 2.9399e-05 - accuracy: 1.0000 - val_loss: 3.9813 - val_accuracy: 0.6549\n",
            "Epoch 27/50\n",
            "129/129 [==============================] - 224s 2s/step - loss: 2.6265e-05 - accuracy: 1.0000 - val_loss: 4.0474 - val_accuracy: 0.6510\n",
            "Epoch 28/50\n",
            "129/129 [==============================] - 223s 2s/step - loss: 2.5231e-05 - accuracy: 1.0000 - val_loss: 4.0617 - val_accuracy: 0.6471\n",
            "Epoch 29/50\n",
            "129/129 [==============================] - 225s 2s/step - loss: 2.1317e-05 - accuracy: 1.0000 - val_loss: 4.1180 - val_accuracy: 0.6471\n",
            "Epoch 30/50\n",
            "129/129 [==============================] - 222s 2s/step - loss: 1.9188e-05 - accuracy: 1.0000 - val_loss: 4.1213 - val_accuracy: 0.6471\n",
            "Epoch 31/50\n",
            "129/129 [==============================] - 223s 2s/step - loss: 1.7394e-05 - accuracy: 1.0000 - val_loss: 4.1443 - val_accuracy: 0.6471\n",
            "Epoch 32/50\n",
            "129/129 [==============================] - 224s 2s/step - loss: 1.5764e-05 - accuracy: 1.0000 - val_loss: 4.1832 - val_accuracy: 0.6471\n",
            "Epoch 33/50\n",
            "129/129 [==============================] - 223s 2s/step - loss: 1.4368e-05 - accuracy: 1.0000 - val_loss: 4.2213 - val_accuracy: 0.6431\n",
            "Epoch 34/50\n",
            "129/129 [==============================] - 224s 2s/step - loss: 1.2989e-05 - accuracy: 1.0000 - val_loss: 4.2290 - val_accuracy: 0.6431\n",
            "Epoch 35/50\n",
            "129/129 [==============================] - 221s 2s/step - loss: 1.1886e-05 - accuracy: 1.0000 - val_loss: 4.2653 - val_accuracy: 0.6431\n",
            "Epoch 36/50\n",
            "129/129 [==============================] - 225s 2s/step - loss: 1.0856e-05 - accuracy: 1.0000 - val_loss: 4.3193 - val_accuracy: 0.6431\n",
            "Epoch 37/50\n",
            "129/129 [==============================] - 230s 2s/step - loss: 9.8429e-06 - accuracy: 1.0000 - val_loss: 4.3516 - val_accuracy: 0.6431\n",
            "Epoch 38/50\n",
            "129/129 [==============================] - 225s 2s/step - loss: 9.1222e-06 - accuracy: 1.0000 - val_loss: 4.3761 - val_accuracy: 0.6431\n",
            "Epoch 39/50\n",
            "129/129 [==============================] - 222s 2s/step - loss: 8.2167e-06 - accuracy: 1.0000 - val_loss: 4.4115 - val_accuracy: 0.6431\n",
            "Epoch 40/50\n",
            "129/129 [==============================] - 223s 2s/step - loss: 7.5257e-06 - accuracy: 1.0000 - val_loss: 4.4283 - val_accuracy: 0.6431\n",
            "Epoch 41/50\n",
            "129/129 [==============================] - 225s 2s/step - loss: 6.9228e-06 - accuracy: 1.0000 - val_loss: 4.4410 - val_accuracy: 0.6431\n",
            "Epoch 42/50\n",
            "129/129 [==============================] - 225s 2s/step - loss: 6.3393e-06 - accuracy: 1.0000 - val_loss: 4.4793 - val_accuracy: 0.6431\n",
            "Epoch 43/50\n",
            "129/129 [==============================] - 226s 2s/step - loss: 5.8330e-06 - accuracy: 1.0000 - val_loss: 4.5381 - val_accuracy: 0.6431\n",
            "Epoch 44/50\n",
            "129/129 [==============================] - 224s 2s/step - loss: 5.3418e-06 - accuracy: 1.0000 - val_loss: 4.5683 - val_accuracy: 0.6471\n",
            "Epoch 45/50\n",
            "129/129 [==============================] - 223s 2s/step - loss: 4.9505e-06 - accuracy: 1.0000 - val_loss: 4.5359 - val_accuracy: 0.6431\n",
            "Epoch 46/50\n",
            "129/129 [==============================] - 221s 2s/step - loss: 4.5175e-06 - accuracy: 1.0000 - val_loss: 4.6301 - val_accuracy: 0.6471\n",
            "Epoch 47/50\n",
            "129/129 [==============================] - 228s 2s/step - loss: 4.2133e-06 - accuracy: 1.0000 - val_loss: 4.6395 - val_accuracy: 0.6431\n",
            "Epoch 48/50\n",
            "129/129 [==============================] - 227s 2s/step - loss: 3.8689e-06 - accuracy: 1.0000 - val_loss: 4.6259 - val_accuracy: 0.6431\n",
            "Epoch 49/50\n",
            "129/129 [==============================] - 227s 2s/step - loss: 3.5395e-06 - accuracy: 1.0000 - val_loss: 4.6713 - val_accuracy: 0.6471\n",
            "Epoch 50/50\n",
            "129/129 [==============================] - 223s 2s/step - loss: 3.2962e-06 - accuracy: 1.0000 - val_loss: 4.6910 - val_accuracy: 0.6392\n"
          ]
        }
      ]
    }
  ]
}